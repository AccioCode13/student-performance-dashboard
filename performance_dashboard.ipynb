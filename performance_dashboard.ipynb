{
 "cells": [
  {
   "cell_type": "code",
   "execution_count": 1,
   "id": "e985b89a-be79-495e-96b3-add5f2e4e1a8",
   "metadata": {},
   "outputs": [
    {
     "name": "stderr",
     "output_type": "stream",
     "text": [
      "2025-07-13 01:04:34.521 WARNING streamlit.runtime.scriptrunner_utils.script_run_context: Thread 'MainThread': missing ScriptRunContext! This warning can be ignored when running in bare mode.\n",
      "2025-07-13 01:04:34.522 WARNING streamlit.runtime.scriptrunner_utils.script_run_context: Thread 'MainThread': missing ScriptRunContext! This warning can be ignored when running in bare mode.\n",
      "2025-07-13 01:04:34.584 \n",
      "  \u001b[33m\u001b[1mWarning:\u001b[0m to view this Streamlit app on a browser, run it with the following\n",
      "  command:\n",
      "\n",
      "    streamlit run /Library/Frameworks/Python.framework/Versions/3.13/lib/python3.13/site-packages/ipykernel_launcher.py [ARGUMENTS]\n",
      "2025-07-13 01:04:34.584 Thread 'MainThread': missing ScriptRunContext! This warning can be ignored when running in bare mode.\n",
      "2025-07-13 01:04:34.584 Thread 'MainThread': missing ScriptRunContext! This warning can be ignored when running in bare mode.\n",
      "2025-07-13 01:04:34.585 Thread 'MainThread': missing ScriptRunContext! This warning can be ignored when running in bare mode.\n",
      "2025-07-13 01:04:34.585 Thread 'MainThread': missing ScriptRunContext! This warning can be ignored when running in bare mode.\n",
      "2025-07-13 01:04:34.585 Thread 'MainThread': missing ScriptRunContext! This warning can be ignored when running in bare mode.\n",
      "2025-07-13 01:04:34.585 Thread 'MainThread': missing ScriptRunContext! This warning can be ignored when running in bare mode.\n",
      "2025-07-13 01:04:34.585 Thread 'MainThread': missing ScriptRunContext! This warning can be ignored when running in bare mode.\n",
      "2025-07-13 01:04:34.585 Thread 'MainThread': missing ScriptRunContext! This warning can be ignored when running in bare mode.\n",
      "2025-07-13 01:04:34.586 Thread 'MainThread': missing ScriptRunContext! This warning can be ignored when running in bare mode.\n",
      "2025-07-13 01:04:34.586 Thread 'MainThread': missing ScriptRunContext! This warning can be ignored when running in bare mode.\n",
      "2025-07-13 01:04:34.586 Thread 'MainThread': missing ScriptRunContext! This warning can be ignored when running in bare mode.\n",
      "2025-07-13 01:04:34.586 Thread 'MainThread': missing ScriptRunContext! This warning can be ignored when running in bare mode.\n",
      "2025-07-13 01:04:34.586 Thread 'MainThread': missing ScriptRunContext! This warning can be ignored when running in bare mode.\n",
      "2025-07-13 01:04:34.586 Thread 'MainThread': missing ScriptRunContext! This warning can be ignored when running in bare mode.\n",
      "2025-07-13 01:04:34.586 Thread 'MainThread': missing ScriptRunContext! This warning can be ignored when running in bare mode.\n",
      "2025-07-13 01:04:34.587 Thread 'MainThread': missing ScriptRunContext! This warning can be ignored when running in bare mode.\n",
      "2025-07-13 01:04:34.587 Thread 'MainThread': missing ScriptRunContext! This warning can be ignored when running in bare mode.\n",
      "2025-07-13 01:04:34.587 Thread 'MainThread': missing ScriptRunContext! This warning can be ignored when running in bare mode.\n",
      "2025-07-13 01:04:34.587 Thread 'MainThread': missing ScriptRunContext! This warning can be ignored when running in bare mode.\n",
      "2025-07-13 01:04:34.587 Thread 'MainThread': missing ScriptRunContext! This warning can be ignored when running in bare mode.\n",
      "2025-07-13 01:04:34.587 Thread 'MainThread': missing ScriptRunContext! This warning can be ignored when running in bare mode.\n",
      "2025-07-13 01:04:34.587 Thread 'MainThread': missing ScriptRunContext! This warning can be ignored when running in bare mode.\n",
      "2025-07-13 01:04:34.588 Thread 'MainThread': missing ScriptRunContext! This warning can be ignored when running in bare mode.\n",
      "2025-07-13 01:04:34.590 Thread 'MainThread': missing ScriptRunContext! This warning can be ignored when running in bare mode.\n",
      "2025-07-13 01:04:34.590 Thread 'MainThread': missing ScriptRunContext! This warning can be ignored when running in bare mode.\n",
      "2025-07-13 01:04:34.590 Thread 'MainThread': missing ScriptRunContext! This warning can be ignored when running in bare mode.\n",
      "2025-07-13 01:04:34.590 Thread 'MainThread': missing ScriptRunContext! This warning can be ignored when running in bare mode.\n",
      "2025-07-13 01:04:34.590 Thread 'MainThread': missing ScriptRunContext! This warning can be ignored when running in bare mode.\n",
      "2025-07-13 01:04:34.591 Thread 'MainThread': missing ScriptRunContext! This warning can be ignored when running in bare mode.\n",
      "2025-07-13 01:04:34.591 Thread 'MainThread': missing ScriptRunContext! This warning can be ignored when running in bare mode.\n",
      "2025-07-13 01:04:34.591 Thread 'MainThread': missing ScriptRunContext! This warning can be ignored when running in bare mode.\n",
      "2025-07-13 01:04:34.591 Thread 'MainThread': missing ScriptRunContext! This warning can be ignored when running in bare mode.\n",
      "2025-07-13 01:04:34.614 Thread 'MainThread': missing ScriptRunContext! This warning can be ignored when running in bare mode.\n",
      "2025-07-13 01:04:34.643 Thread 'MainThread': missing ScriptRunContext! This warning can be ignored when running in bare mode.\n",
      "2025-07-13 01:04:34.643 Thread 'MainThread': missing ScriptRunContext! This warning can be ignored when running in bare mode.\n",
      "2025-07-13 01:04:34.644 Thread 'MainThread': missing ScriptRunContext! This warning can be ignored when running in bare mode.\n",
      "2025-07-13 01:04:34.644 Thread 'MainThread': missing ScriptRunContext! This warning can be ignored when running in bare mode.\n",
      "2025-07-13 01:04:34.644 Thread 'MainThread': missing ScriptRunContext! This warning can be ignored when running in bare mode.\n",
      "2025-07-13 01:04:34.644 Thread 'MainThread': missing ScriptRunContext! This warning can be ignored when running in bare mode.\n",
      "2025-07-13 01:04:34.644 Thread 'MainThread': missing ScriptRunContext! This warning can be ignored when running in bare mode.\n",
      "2025-07-13 01:04:34.644 Thread 'MainThread': missing ScriptRunContext! This warning can be ignored when running in bare mode.\n",
      "2025-07-13 01:04:34.645 Thread 'MainThread': missing ScriptRunContext! This warning can be ignored when running in bare mode.\n",
      "2025-07-13 01:04:34.645 Thread 'MainThread': missing ScriptRunContext! This warning can be ignored when running in bare mode.\n",
      "2025-07-13 01:04:34.645 Thread 'MainThread': missing ScriptRunContext! This warning can be ignored when running in bare mode.\n",
      "2025-07-13 01:04:34.645 Thread 'MainThread': missing ScriptRunContext! This warning can be ignored when running in bare mode.\n"
     ]
    },
    {
     "data": {
      "text/plain": [
       "DeltaGenerator()"
      ]
     },
     "execution_count": 1,
     "metadata": {},
     "output_type": "execute_result"
    }
   ],
   "source": [
    "import streamlit as st\n",
    "import pandas as pd\n",
    "import matplotlib.pyplot as plt\n",
    "import seaborn as sns\n",
    "from sklearn.ensemble import RandomForestClassifier\n",
    "import joblib\n",
    "\n",
    "# Load your data and model (replace with your actual data loading code)\n",
    "# X_train, y_clf_train = load_your_data()  \n",
    "# model = joblib.load('your_model.pkl')\n",
    "\n",
    "# Mock data for demonstration\n",
    "high_achiever_profile = {\n",
    "    'study_hours_per_day': 5.0,\n",
    "    'sleep_hours': 6.6,\n",
    "    'total_screen_time': 3.7,\n",
    "    'attendance_percentage': 85.8\n",
    "}\n",
    "\n",
    "# ---- Streamlit App ----\n",
    "st.set_page_config(layout=\"wide\")\n",
    "st.title(\"🎓 Student Performance Advisor\")\n",
    "\n",
    "# Sidebar filters\n",
    "with st.sidebar:\n",
    "    st.header(\"Filters\")\n",
    "    study_threshold = st.slider(\"Minimum study hours\", 0.0, 10.0, 4.2)\n",
    "    sleep_threshold = st.slider(\"Minimum sleep hours\", 0.0, 12.0, 6.0)\n",
    "\n",
    "# Main content\n",
    "col1, col2 = st.columns(2)\n",
    "\n",
    "with col1:\n",
    "    st.header(\"High Performer Profile\")\n",
    "    st.dataframe(pd.DataFrame.from_dict(high_achiever_profile, orient='index', columns=['Value']))\n",
    "    \n",
    "    st.metric(\"Key Threshold\", \n",
    "              f\"Study > {study_threshold} hrs\", \n",
    "              f\"{5.0 - study_threshold:.1f} hrs above\")\n",
    "\n",
    "with col2:\n",
    "    st.header(\"Habit Comparison\")\n",
    "    \n",
    "    # Mock comparison data\n",
    "    comparison_data = pd.DataFrame({\n",
    "        'Group': ['Low', 'Medium', 'High'],\n",
    "        'Study Hours': [3.2, 4.1, 5.0],\n",
    "        'Sleep Hours': [5.8, 6.2, 6.6]\n",
    "    })\n",
    "    \n",
    "    fig, ax = plt.subplots()\n",
    "    sns.barplot(data=comparison_data, x='Group', y='Study Hours', ax=ax)\n",
    "    ax.axhline(study_threshold, color='red', linestyle='--')\n",
    "    st.pyplot(fig)\n",
    "\n",
    "# Intervention alerts\n",
    "st.header(\"Intervention Recommendations\")\n",
    "if study_threshold > 4.5:\n",
    "    st.warning(\"⚠️ High study threshold may miss at-risk students\")\n",
    "else:\n",
    "    st.success(\"✅ Appropriate study threshold\")\n",
    "\n",
    "st.info(\"\"\"\n",
    "**Recommendations:**\n",
    "- Students studying <4.2 hrs/day need intervention\n",
    "- Aim for 6.6 hrs sleep nightly\n",
    "- Limit screen time to <3.7 hrs/day\n",
    "\"\"\")"
   ]
  },
  {
   "cell_type": "code",
   "execution_count": 2,
   "id": "0626cc38-2f7a-4bf7-9a63-729a4dd3feab",
   "metadata": {},
   "outputs": [
    {
     "ename": "SyntaxError",
     "evalue": "invalid syntax (4151728084.py, line 1)",
     "output_type": "error",
     "traceback": [
      "\u001b[0;36m  Cell \u001b[0;32mIn[2], line 1\u001b[0;36m\u001b[0m\n\u001b[0;31m    streamlit run performance_dashboard.py\u001b[0m\n\u001b[0m              ^\u001b[0m\n\u001b[0;31mSyntaxError\u001b[0m\u001b[0;31m:\u001b[0m invalid syntax\n"
     ]
    }
   ],
   "source": []
  },
  {
   "cell_type": "code",
   "execution_count": null,
   "id": "17945376-6f0a-45cc-9fe1-c78cce491259",
   "metadata": {},
   "outputs": [],
   "source": []
  }
 ],
 "metadata": {
  "kernelspec": {
   "display_name": "Python 3 (ipykernel)",
   "language": "python",
   "name": "python3"
  },
  "language_info": {
   "codemirror_mode": {
    "name": "ipython",
    "version": 3
   },
   "file_extension": ".py",
   "mimetype": "text/x-python",
   "name": "python",
   "nbconvert_exporter": "python",
   "pygments_lexer": "ipython3",
   "version": "3.13.1"
  }
 },
 "nbformat": 4,
 "nbformat_minor": 5
}
